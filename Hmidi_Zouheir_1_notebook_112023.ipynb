{
 "cells": [
  {
   "cell_type": "markdown",
   "id": "7814483f",
   "metadata": {},
   "source": [
    "**1- Ouverture Pyspark et Librairies**"
   ]
  },
  {
   "cell_type": "code",
   "execution_count": 1,
   "id": "6fdfef02",
   "metadata": {},
   "outputs": [
    {
     "name": "stdout",
     "output_type": "stream",
     "text": [
      "Starting Spark application\n"
     ]
    },
    {
     "data": {
      "text/html": [
       "<table>\n",
       "<tr><th>ID</th><th>YARN Application ID</th><th>Kind</th><th>State</th><th>Spark UI</th><th>Driver log</th><th>User</th><th>Current session?</th></tr><tr><td>0</td><td>application_1701638076559_0001</td><td>pyspark</td><td>idle</td><td><a target=\"_blank\" href=\"http://ip-172-31-44-157.eu-west-3.compute.internal:20888/proxy/application_1701638076559_0001/\">Link</a></td><td><a target=\"_blank\" href=\"http://ip-172-31-38-182.eu-west-3.compute.internal:8042/node/containerlogs/container_1701638076559_0001_01_000001/livy\">Link</a></td><td>None</td><td>✔</td></tr></table>"
      ],
      "text/plain": [
       "<IPython.core.display.HTML object>"
      ]
     },
     "metadata": {},
     "output_type": "display_data"
    },
    {
     "data": {
      "application/vnd.jupyter.widget-view+json": {
       "model_id": "",
       "version_major": 2,
       "version_minor": 0
      },
      "text/plain": [
       "FloatProgress(value=0.0, bar_style='info', description='Progress:', layout=Layout(height='25px', width='50%'),…"
      ]
     },
     "metadata": {},
     "output_type": "display_data"
    },
    {
     "name": "stdout",
     "output_type": "stream",
     "text": [
      "SparkSession available as 'spark'.\n"
     ]
    },
    {
     "data": {
      "application/vnd.jupyter.widget-view+json": {
       "model_id": "",
       "version_major": 2,
       "version_minor": 0
      },
      "text/plain": [
       "FloatProgress(value=0.0, bar_style='info', description='Progress:', layout=Layout(height='25px', width='50%'),…"
      ]
     },
     "metadata": {},
     "output_type": "display_data"
    }
   ],
   "source": [
    "# L'exécution de cette cellule démarre l'application Spark"
   ]
  },
  {
   "cell_type": "code",
   "execution_count": 2,
   "id": "4bb5736f",
   "metadata": {},
   "outputs": [
    {
     "data": {
      "text/html": [
       "Current session configs: <tt>{'driverMemory': '1000M', 'executorCores': 2, 'proxyUser': 'jovyan', 'kind': 'pyspark'}</tt><br>"
      ],
      "text/plain": [
       "<IPython.core.display.HTML object>"
      ]
     },
     "metadata": {},
     "output_type": "display_data"
    },
    {
     "data": {
      "text/html": [
       "<table>\n",
       "<tr><th>ID</th><th>YARN Application ID</th><th>Kind</th><th>State</th><th>Spark UI</th><th>Driver log</th><th>User</th><th>Current session?</th></tr><tr><td>0</td><td>application_1701638076559_0001</td><td>pyspark</td><td>idle</td><td><a target=\"_blank\" href=\"http://ip-172-31-44-157.eu-west-3.compute.internal:20888/proxy/application_1701638076559_0001/\">Link</a></td><td><a target=\"_blank\" href=\"http://ip-172-31-38-182.eu-west-3.compute.internal:8042/node/containerlogs/container_1701638076559_0001_01_000001/livy\">Link</a></td><td>None</td><td>✔</td></tr></table>"
      ],
      "text/plain": [
       "<IPython.core.display.HTML object>"
      ]
     },
     "metadata": {},
     "output_type": "display_data"
    }
   ],
   "source": [
    "%%info"
   ]
  },
  {
   "cell_type": "markdown",
   "id": "7199a9b6",
   "metadata": {},
   "source": [
    "**1- Installation des packages**"
   ]
  },
  {
   "cell_type": "code",
   "execution_count": 3,
   "id": "5163ab82",
   "metadata": {},
   "outputs": [
    {
     "data": {
      "application/vnd.jupyter.widget-view+json": {
       "model_id": "",
       "version_major": 2,
       "version_minor": 0
      },
      "text/plain": [
       "FloatProgress(value=0.0, bar_style='info', description='Progress:', layout=Layout(height='25px', width='50%'),…"
      ]
     },
     "metadata": {},
     "output_type": "display_data"
    }
   ],
   "source": [
    "import pandas as pd\n",
    "import numpy as np\n",
    "import io\n",
    "import os\n",
    "from PIL import Image\n",
    "\n",
    "import tensorflow as tf\n",
    "from tensorflow import keras\n",
    "from tensorflow.keras.applications.mobilenet_v2 import MobileNetV2, preprocess_input\n",
    "from tensorflow.keras.preprocessing.image import img_to_array\n",
    "from tensorflow.keras import Model\n",
    "\n",
    "\n",
    "from pyspark.sql.functions import col, pandas_udf, PandasUDFType, element_at, split\n"
   ]
  },
  {
   "cell_type": "markdown",
   "id": "f0a3f9a8",
   "metadata": {},
   "source": [
    "**2- Création des PATHs**"
   ]
  },
  {
   "cell_type": "code",
   "execution_count": 4,
   "id": "0008f713",
   "metadata": {},
   "outputs": [
    {
     "data": {
      "application/vnd.jupyter.widget-view+json": {
       "model_id": "",
       "version_major": 2,
       "version_minor": 0
      },
      "text/plain": [
       "FloatProgress(value=0.0, bar_style='info', description='Progress:', layout=Layout(height='25px', width='50%'),…"
      ]
     },
     "metadata": {},
     "output_type": "display_data"
    },
    {
     "name": "stdout",
     "output_type": "stream",
     "text": [
      "PATH:        s3://zh-p8-bucket\n",
      "PATH_Data:   s3://zh-p8-bucket/Test\n",
      "PATH_Result: s3://zh-p8-bucket/Results"
     ]
    }
   ],
   "source": [
    "PATH = 's3://zh-p8-bucket'\n",
    "PATH_Data = PATH+'/Test'\n",
    "PATH_Result = PATH+'/Results'\n",
    "print('PATH:        '+\\\n",
    "      PATH+'\\nPATH_Data:   '+\\\n",
    "      PATH_Data+'\\nPATH_Result: '+PATH_Result)"
   ]
  },
  {
   "cell_type": "markdown",
   "id": "e7afb6db",
   "metadata": {},
   "source": [
    "**3- Chargement des données**"
   ]
  },
  {
   "cell_type": "code",
   "execution_count": 5,
   "id": "5e316637",
   "metadata": {},
   "outputs": [
    {
     "data": {
      "application/vnd.jupyter.widget-view+json": {
       "model_id": "",
       "version_major": 2,
       "version_minor": 0
      },
      "text/plain": [
       "FloatProgress(value=0.0, bar_style='info', description='Progress:', layout=Layout(height='25px', width='50%'),…"
      ]
     },
     "metadata": {},
     "output_type": "display_data"
    },
    {
     "name": "stdout",
     "output_type": "stream",
     "text": [
      "+-----------------------------------------------+----------+\n",
      "|path                                           |label     |\n",
      "+-----------------------------------------------+----------+\n",
      "|s3://zh-p8-bucket/Test/Watermelon/r_106_100.jpg|Watermelon|\n",
      "|s3://zh-p8-bucket/Test/Watermelon/r_109_100.jpg|Watermelon|\n",
      "|s3://zh-p8-bucket/Test/Watermelon/r_108_100.jpg|Watermelon|\n",
      "|s3://zh-p8-bucket/Test/Watermelon/r_107_100.jpg|Watermelon|\n",
      "|s3://zh-p8-bucket/Test/Watermelon/r_95_100.jpg |Watermelon|\n",
      "+-----------------------------------------------+----------+\n",
      "only showing top 5 rows\n",
      "\n",
      "None\n",
      "22714"
     ]
    }
   ],
   "source": [
    "# Chargement des données avec la bonne extention et dans tous les sous dossiers :\n",
    "images = spark.read.format(\"binaryFile\").option(\"pathGlobFilter\", \"*.jpg\").option(\"recursiveFileLookup\", \"true\").load(PATH_Data)\n",
    "images = images.withColumn('label', element_at(split(images['path'], '/'),-2))\n",
    "\n",
    "# impression des résultats :\n",
    "print(images.select('path','label').show(5, False))\n",
    "\n",
    "# Longueur de la DF :\n",
    "images.count()"
   ]
  },
  {
   "cell_type": "markdown",
   "id": "23a06bc9",
   "metadata": {},
   "source": [
    "**4- Création des définitions (modèles ML)**"
   ]
  },
  {
   "cell_type": "code",
   "execution_count": 6,
   "id": "853636b0",
   "metadata": {},
   "outputs": [
    {
     "data": {
      "application/vnd.jupyter.widget-view+json": {
       "model_id": "",
       "version_major": 2,
       "version_minor": 0
      },
      "text/plain": [
       "FloatProgress(value=0.0, bar_style='info', description='Progress:', layout=Layout(height='25px', width='50%'),…"
      ]
     },
     "metadata": {},
     "output_type": "display_data"
    },
    {
     "name": "stdout",
     "output_type": "stream",
     "text": [
      "Downloading data from https://storage.googleapis.com/tensorflow/keras-applications/mobilenet_v2/mobilenet_v2_weights_tf_dim_ordering_tf_kernels_1.0_224.h5\n",
      "14536120/14536120 [==============================] - 1s 0us/step"
     ]
    }
   ],
   "source": [
    "# Ouverture du model MobileNetV2 dans la bonne dimension :\n",
    "model = MobileNetV2(weights='imagenet', include_top=True, input_shape=(224, 224, 3))\n",
    "\n",
    "# Suppression de la derniére couche du model (ici -2)\n",
    "new_model = Model(inputs=model.input, outputs=model.layers[-2].output)\n",
    "\n",
    "brodcast_weights = sc.broadcast(new_model.get_weights())\n",
    "\n",
    "# Définition générale (ouverture du modèle et brodcast des weights ) :\n",
    "def model_fn():\n",
    "    model = MobileNetV2(weights='imagenet', include_top=True, input_shape=(224, 224, 3))\n",
    "    new_model = Model(inputs=model.input, outputs=model.layers[-2].output)\n",
    "    new_model.set_weights(brodcast_weights.value)\n",
    "    return new_model"
   ]
  },
  {
   "cell_type": "code",
   "execution_count": 7,
   "id": "283853fc",
   "metadata": {},
   "outputs": [
    {
     "data": {
      "application/vnd.jupyter.widget-view+json": {
       "model_id": "",
       "version_major": 2,
       "version_minor": 0
      },
      "text/plain": [
       "FloatProgress(value=0.0, bar_style='info', description='Progress:', layout=Layout(height='25px', width='50%'),…"
      ]
     },
     "metadata": {},
     "output_type": "display_data"
    },
    {
     "name": "stdout",
     "output_type": "stream",
     "text": [
      "/mnt/yarn/usercache/livy/appcache/application_1701638076559_0001/container_1701638076559_0001_01_000001/pyspark.zip/pyspark/sql/pandas/functions.py:398: UserWarning: In Python 3.6+ and Spark 3.0+, it is preferred to specify type hints for pandas UDF instead of specifying pandas UDF type which will be deprecated in the future releases. See SPARK-28264 for more details."
     ]
    }
   ],
   "source": [
    "# Definition de redimensionnement des images en 224/224 et non 100/100 :\n",
    "def preprocess(content):\n",
    "    img = Image.open(io.BytesIO(content)).resize([224, 224])\n",
    "    arr = img_to_array(img)\n",
    "    return preprocess_input(arr)\n",
    "\n",
    "# Récupération des résultats des photos passées dans le model aprés être passée par le preprocess, puis flatten des résultats :\n",
    "def featurize_series(model, content_series):\n",
    "    input = np.stack(content_series.map(preprocess))\n",
    "    preds = model.predict(input)\n",
    "    # For some layers, output features will be multi-dimensional tensors.\n",
    "    # We flatten the feature tensors to vectors for easier storage in Spark DataFrames.\n",
    "    output = [p.flatten() for p in preds]\n",
    "    return pd.Series(output)\n",
    "\n",
    "\n",
    "@pandas_udf('array<float>', PandasUDFType.SCALAR_ITER)\n",
    "def featurize_udf(content_series_iter):\n",
    "    # With Scalar Iterator pandas UDFs, we can load the model once and then re-use it\n",
    "    # for multiple data batches.  This amortizes the overhead of loading big models.\n",
    "    model = model_fn()\n",
    "    for content_series in content_series_iter:\n",
    "        yield featurize_series(model, content_series)"
   ]
  },
  {
   "cell_type": "markdown",
   "id": "ed579f60",
   "metadata": {},
   "source": [
    "**5- Extraction des features**"
   ]
  },
  {
   "cell_type": "code",
   "execution_count": 12,
   "id": "6b93c8a9",
   "metadata": {},
   "outputs": [
    {
     "data": {
      "application/vnd.jupyter.widget-view+json": {
       "model_id": "",
       "version_major": 2,
       "version_minor": 0
      },
      "text/plain": [
       "FloatProgress(value=0.0, bar_style='info', description='Progress:', layout=Layout(height='25px', width='50%'),…"
      ]
     },
     "metadata": {},
     "output_type": "display_data"
    }
   ],
   "source": [
    "spark.conf.set(\"spark.sql.execution.arrow.maxRecordsPerBatch\", \"1024\")"
   ]
  },
  {
   "cell_type": "code",
   "execution_count": 8,
   "id": "d2b1d29c",
   "metadata": {
    "scrolled": true
   },
   "outputs": [
    {
     "data": {
      "application/vnd.jupyter.widget-view+json": {
       "model_id": "",
       "version_major": 2,
       "version_minor": 0
      },
      "text/plain": [
       "FloatProgress(value=0.0, bar_style='info', description='Progress:', layout=Layout(height='25px', width='50%'),…"
      ]
     },
     "metadata": {},
     "output_type": "display_data"
    },
    {
     "name": "stdout",
     "output_type": "stream",
     "text": [
      "+--------------------+--------------+--------------------+\n",
      "|                path|         label|            features|\n",
      "+--------------------+--------------+--------------------+\n",
      "|s3://zh-p8-bucket...|    Watermelon|[0.049905494, 0.1...|\n",
      "|s3://zh-p8-bucket...|    Watermelon|[0.018489283, 0.0...|\n",
      "|s3://zh-p8-bucket...|Pineapple Mini|[0.0, 5.068508, 0...|\n",
      "|s3://zh-p8-bucket...|Pineapple Mini|[0.015393238, 4.6...|\n",
      "|s3://zh-p8-bucket...|    Watermelon|[0.11004015, 0.05...|\n",
      "|s3://zh-p8-bucket...|     Raspberry|[0.010020509, 0.3...|\n",
      "|s3://zh-p8-bucket...|     Raspberry|[0.6104076, 0.644...|\n",
      "|s3://zh-p8-bucket...|     Raspberry|[0.079946205, 0.5...|\n",
      "|s3://zh-p8-bucket...|     Pineapple|[5.0192466E-4, 3....|\n",
      "|s3://zh-p8-bucket...|     Pineapple|[0.0, 4.0564113, ...|\n",
      "|s3://zh-p8-bucket...|     Raspberry|[0.27468008, 0.03...|\n",
      "|s3://zh-p8-bucket...|   Cauliflower|[0.0, 0.9788669, ...|\n",
      "|s3://zh-p8-bucket...|    Watermelon|[0.12589383, 0.01...|\n",
      "|s3://zh-p8-bucket...|Pineapple Mini|[0.0, 3.5753846, ...|\n",
      "|s3://zh-p8-bucket...|   Cauliflower|[0.0, 0.50616795,...|\n",
      "|s3://zh-p8-bucket...| Cucumber Ripe|[1.9396341, 0.044...|\n",
      "|s3://zh-p8-bucket...|   Cauliflower|[0.0, 0.41956198,...|\n",
      "|s3://zh-p8-bucket...|Apple Golden 1|[0.0, 0.021616917...|\n",
      "|s3://zh-p8-bucket...|    Watermelon|[0.037083946, 0.1...|\n",
      "|s3://zh-p8-bucket...|    Watermelon|[0.11681299, 0.13...|\n",
      "+--------------------+--------------+--------------------+\n",
      "only showing top 20 rows\n",
      "\n",
      "None\n",
      "22714"
     ]
    }
   ],
   "source": [
    "# Récupération des features via les def précédentes :\n",
    "features_df = images.repartition(20).select(col(\"path\"), col(\"label\"), featurize_udf(\"content\").alias(\"features\"))\n",
    "\n",
    "# Montre le tableau de résultats avec les features :\n",
    "print(features_df.show(20))\n",
    "\n",
    "# Longueur de la DF :\n",
    "features_df.count()"
   ]
  },
  {
   "cell_type": "code",
   "execution_count": 9,
   "id": "afcffd26",
   "metadata": {},
   "outputs": [
    {
     "data": {
      "application/vnd.jupyter.widget-view+json": {
       "model_id": "",
       "version_major": 2,
       "version_minor": 0
      },
      "text/plain": [
       "FloatProgress(value=0.0, bar_style='info', description='Progress:', layout=Layout(height='25px', width='50%'),…"
      ]
     },
     "metadata": {},
     "output_type": "display_data"
    }
   ],
   "source": [
    "from pyspark.ml.functions import vector_to_array\n",
    "from pyspark.ml.linalg import Vectors, VectorUDT\n",
    "from pyspark.sql.functions import udf"
   ]
  },
  {
   "cell_type": "code",
   "execution_count": null,
   "id": "82058e4c",
   "metadata": {},
   "outputs": [],
   "source": []
  },
  {
   "cell_type": "markdown",
   "id": "c720f229",
   "metadata": {},
   "source": [
    "**6- Application du PCA**"
   ]
  },
  {
   "cell_type": "code",
   "execution_count": 10,
   "id": "0ace168c",
   "metadata": {},
   "outputs": [
    {
     "data": {
      "application/vnd.jupyter.widget-view+json": {
       "model_id": "",
       "version_major": 2,
       "version_minor": 0
      },
      "text/plain": [
       "FloatProgress(value=0.0, bar_style='info', description='Progress:', layout=Layout(height='25px', width='50%'),…"
      ]
     },
     "metadata": {},
     "output_type": "display_data"
    },
    {
     "name": "stdout",
     "output_type": "stream",
     "text": [
      "+--------------------+----------+--------------------+--------------------+\n",
      "|                path|     label|            features| features_vectorized|\n",
      "+--------------------+----------+--------------------+--------------------+\n",
      "|s3://zh-p8-bucket...|Watermelon|[0.049905494, 0.1...|[0.04990549385547...|\n",
      "|s3://zh-p8-bucket...|Watermelon|[0.018489283, 0.0...|[0.01848928257822...|\n",
      "|s3://zh-p8-bucket...|Watermelon|[0.12589383, 0.01...|[0.12589383125305...|\n",
      "|s3://zh-p8-bucket...|Watermelon|[0.037083946, 0.1...|[0.03708394616842...|\n",
      "|s3://zh-p8-bucket...|Watermelon|[0.11681299, 0.13...|[0.11681298911571...|\n",
      "+--------------------+----------+--------------------+--------------------+\n",
      "only showing top 5 rows"
     ]
    }
   ],
   "source": [
    "# Transformation des features en vecteur dense\n",
    "\n",
    "from pyspark.ml.functions import array_to_vector\n",
    "\n",
    "sparkDF = features_df.withColumn(\"features_vectorized\", array_to_vector(\"features\"))\n",
    "sparkDF.show(5)"
   ]
  },
  {
   "cell_type": "code",
   "execution_count": 11,
   "id": "04f04221",
   "metadata": {},
   "outputs": [
    {
     "data": {
      "application/vnd.jupyter.widget-view+json": {
       "model_id": "",
       "version_major": 2,
       "version_minor": 0
      },
      "text/plain": [
       "FloatProgress(value=0.0, bar_style='info', description='Progress:', layout=Layout(height='25px', width='50%'),…"
      ]
     },
     "metadata": {},
     "output_type": "display_data"
    },
    {
     "name": "stdout",
     "output_type": "stream",
     "text": [
      "+--------------------+--------------+--------------------+--------------------+--------------------+\n",
      "|                path|         label|            features| features_vectorized|      scaledFeatures|\n",
      "+--------------------+--------------+--------------------+--------------------+--------------------+\n",
      "|s3://zh-p8-bucket...|Pineapple Mini|[0.0, 5.068508, 0...|[0.0,5.0685081481...|[-0.7568072935344...|\n",
      "|s3://zh-p8-bucket...|Pineapple Mini|[0.015393238, 4.6...|[0.01539323758333...|[-0.7282748230803...|\n",
      "|s3://zh-p8-bucket...|    Watermelon|[0.11004015, 0.05...|[0.11004015058279...|[-0.5528399781295...|\n",
      "|s3://zh-p8-bucket...|     Raspberry|[0.6104076, 0.644...|[0.61040759086608...|[0.37462697797761...|\n",
      "|s3://zh-p8-bucket...|     Raspberry|[0.079946205, 0.5...|[0.07994620501995...|[-0.6086212657221...|\n",
      "|s3://zh-p8-bucket...|   Cauliflower|[0.0, 0.63743114,...|[0.0,0.6374311447...|[-0.7568072935344...|\n",
      "+--------------------+--------------+--------------------+--------------------+--------------------+\n",
      "only showing top 6 rows"
     ]
    }
   ],
   "source": [
    "from pyspark.ml.feature import StandardScaler\n",
    "\n",
    "scaler = StandardScaler(\n",
    "    inputCol = 'features_vectorized', \n",
    "    outputCol = 'scaledFeatures',\n",
    "    withMean = True,\n",
    "    withStd = True\n",
    ").fit(sparkDF)\n",
    "\n",
    "# when we transform the dataframe, the old\n",
    "# feature will still remain in it\n",
    "df_scaled = scaler.transform(sparkDF)\n",
    "#df_scaled = df_scaled.drop(\"path\",'features','features_vectorized')\n",
    "df_scaled.show(6)"
   ]
  },
  {
   "cell_type": "code",
   "execution_count": 12,
   "id": "287b5974",
   "metadata": {},
   "outputs": [
    {
     "data": {
      "application/vnd.jupyter.widget-view+json": {
       "model_id": "",
       "version_major": 2,
       "version_minor": 0
      },
      "text/plain": [
       "FloatProgress(value=0.0, bar_style='info', description='Progress:', layout=Layout(height='25px', width='50%'),…"
      ]
     },
     "metadata": {},
     "output_type": "display_data"
    },
    {
     "name": "stdout",
     "output_type": "stream",
     "text": [
      "1280"
     ]
    }
   ],
   "source": [
    "# Compter le nombre de features\n",
    "nb_composante = len(df_scaled.select('scaledFeatures').take(1)[0][0])\n",
    "nb_composante"
   ]
  },
  {
   "cell_type": "code",
   "execution_count": 14,
   "id": "e2119797",
   "metadata": {
    "scrolled": true
   },
   "outputs": [
    {
     "data": {
      "application/vnd.jupyter.widget-view+json": {
       "model_id": "",
       "version_major": 2,
       "version_minor": 0
      },
      "text/plain": [
       "FloatProgress(value=0.0, bar_style='info', description='Progress:', layout=Layout(height='25px', width='50%'),…"
      ]
     },
     "metadata": {},
     "output_type": "display_data"
    }
   ],
   "source": [
    "from pyspark.ml.functions import array_to_vector\n",
    "\n",
    "pca, pca_matrix = reduc_dim_pca(df_scaled)"
   ]
  },
  {
   "cell_type": "code",
   "execution_count": 21,
   "id": "1e11acaf",
   "metadata": {},
   "outputs": [
    {
     "data": {
      "application/vnd.jupyter.widget-view+json": {
       "model_id": "",
       "version_major": 2,
       "version_minor": 0
      },
      "text/plain": [
       "FloatProgress(value=0.0, bar_style='info', description='Progress:', layout=Layout(height='25px', width='50%'),…"
      ]
     },
     "metadata": {},
     "output_type": "display_data"
    }
   ],
   "source": [
    "# Fit sur les données standardisées\n",
    "pca = PCA(\n",
    "    k = nb_composante, \n",
    "    inputCol = 'scaledFeatures', \n",
    "    outputCol = 'pcaFeatures'\n",
    ").fit(df_scaled)"
   ]
  },
  {
   "cell_type": "code",
   "execution_count": 22,
   "id": "e93e38e1",
   "metadata": {
    "scrolled": false
   },
   "outputs": [
    {
     "data": {
      "application/vnd.jupyter.widget-view+json": {
       "model_id": "",
       "version_major": 2,
       "version_minor": 0
      },
      "text/plain": [
       "FloatProgress(value=0.0, bar_style='info', description='Progress:', layout=Layout(height='25px', width='50%'),…"
      ]
     },
     "metadata": {},
     "output_type": "display_data"
    },
    {
     "data": {
      "image/png": "[encoded data removed]",
      "text/plain": [
       "<IPython.core.display.Image object>"
      ]
     },
     "metadata": {},
     "output_type": "display_data"
    }
   ],
   "source": [
    "import matplotlib.pyplot as plt\n",
    "\n",
    "plt.figure(figsize=(16, 9))\n",
    "plt.ylabel(\"Variance cumulée\", weight='bold', size=20)\n",
    "plt.xlabel('Nbr de composantes principales', weight='bold', size=17)\n",
    "plt.plot(pca.explainedVariance.cumsum(),c=\"red\",marker='o')\n",
    "plt.title('Courbe de variances cumulees', size=18, weight='bold')\n",
    "%matplot plt"
   ]
  },
  {
   "cell_type": "code",
   "execution_count": 23,
   "id": "75825d66",
   "metadata": {},
   "outputs": [
    {
     "data": {
      "application/vnd.jupyter.widget-view+json": {
       "model_id": "",
       "version_major": 2,
       "version_minor": 0
      },
      "text/plain": [
       "FloatProgress(value=0.0, bar_style='info', description='Progress:', layout=Layout(height='25px', width='50%'),…"
      ]
     },
     "metadata": {},
     "output_type": "display_data"
    },
    {
     "name": "stdout",
     "output_type": "stream",
     "text": [
      "array([0.07666702, 0.12707709, 0.17069511, ..., 0.99997139, 0.9999858 ,\n",
      "       1.        ])"
     ]
    }
   ],
   "source": [
    "pca.explainedVariance.cumsum()"
   ]
  },
  {
   "cell_type": "code",
   "execution_count": 24,
   "id": "1ad3a2af",
   "metadata": {},
   "outputs": [
    {
     "data": {
      "application/vnd.jupyter.widget-view+json": {
       "model_id": "",
       "version_major": 2,
       "version_minor": 0
      },
      "text/plain": [
       "FloatProgress(value=0.0, bar_style='info', description='Progress:', layout=Layout(height='25px', width='50%'),…"
      ]
     },
     "metadata": {},
     "output_type": "display_data"
    },
    {
     "name": "stdout",
     "output_type": "stream",
     "text": [
      "161 composantes expliquent 80% de la variance"
     ]
    }
   ],
   "source": [
    "cumsum = 0\n",
    "for i in pca.explainedVariance.cumsum():\n",
    "    cumsum += 1\n",
    "    if(i > 0.8):\n",
    "        print(\n",
    "            '{} composantes expliquent 80% de la variance'.format(cumsum))\n",
    "        break"
   ]
  },
  {
   "cell_type": "code",
   "execution_count": 31,
   "id": "0c71ab35",
   "metadata": {},
   "outputs": [
    {
     "data": {
      "application/vnd.jupyter.widget-view+json": {
       "model_id": "",
       "version_major": 2,
       "version_minor": 0
      },
      "text/plain": [
       "FloatProgress(value=0.0, bar_style='info', description='Progress:', layout=Layout(height='25px', width='50%'),…"
      ]
     },
     "metadata": {},
     "output_type": "display_data"
    }
   ],
   "source": [
    "# Réduction de dimention\n",
    "pca = PCA(\n",
    "    k=cumsum,\n",
    "    inputCol='scaledFeatures',\n",
    "    outputCol='features_pca')\n",
    "model_pca = pca.fit(df_scaled)\n",
    "df_final = model_pca.transform(df_scaled)\n",
    "df_final = df_final.drop('path', 'scaledFeatures', 'features', 'features_vectorized')"
   ]
  },
  {
   "cell_type": "code",
   "execution_count": 32,
   "id": "80ac3f8b",
   "metadata": {},
   "outputs": [
    {
     "data": {
      "application/vnd.jupyter.widget-view+json": {
       "model_id": "",
       "version_major": 2,
       "version_minor": 0
      },
      "text/plain": [
       "FloatProgress(value=0.0, bar_style='info', description='Progress:', layout=Layout(height='25px', width='50%'),…"
      ]
     },
     "metadata": {},
     "output_type": "display_data"
    },
    {
     "name": "stdout",
     "output_type": "stream",
     "text": [
      "+--------------+--------------------+\n",
      "|         label|        features_pca|\n",
      "+--------------+--------------------+\n",
      "|Pineapple Mini|[-9.3577244748706...|\n",
      "|Pineapple Mini|[-6.8753150180104...|\n",
      "|Pineapple Mini|[-13.269800796270...|\n",
      "|     Raspberry|[-2.4566974559442...|\n",
      "|     Raspberry|[-6.0856911357879...|\n",
      "|   Cauliflower|[-4.4442835489278...|\n",
      "+--------------+--------------------+\n",
      "only showing top 6 rows"
     ]
    }
   ],
   "source": [
    "df_final.show(6)"
   ]
  },
  {
   "cell_type": "code",
   "execution_count": null,
   "id": "d5af0efa",
   "metadata": {},
   "outputs": [],
   "source": []
  },
  {
   "cell_type": "markdown",
   "id": "6be102c3",
   "metadata": {},
   "source": [
    "**7- Enregistrement sous format Parquet**"
   ]
  },
  {
   "cell_type": "code",
   "execution_count": 33,
   "id": "dbfdbde6",
   "metadata": {},
   "outputs": [
    {
     "data": {
      "application/vnd.jupyter.widget-view+json": {
       "model_id": "",
       "version_major": 2,
       "version_minor": 0
      },
      "text/plain": [
       "FloatProgress(value=0.0, bar_style='info', description='Progress:', layout=Layout(height='25px', width='50%'),…"
      ]
     },
     "metadata": {},
     "output_type": "display_data"
    }
   ],
   "source": [
    "# Enregristrement des données :\n",
    "df_final.write.mode(\"overwrite\").parquet(PATH_Result)"
   ]
  },
  {
   "cell_type": "code",
   "execution_count": 34,
   "id": "43af99bd",
   "metadata": {},
   "outputs": [
    {
     "data": {
      "application/vnd.jupyter.widget-view+json": {
       "model_id": "",
       "version_major": 2,
       "version_minor": 0
      },
      "text/plain": [
       "FloatProgress(value=0.0, bar_style='info', description='Progress:', layout=Layout(height='25px', width='50%'),…"
      ]
     },
     "metadata": {},
     "output_type": "display_data"
    }
   ],
   "source": [
    "import pyarrow.parquet as pq\n",
    "\n",
    "df = pq.read_table(source=PATH_Result).to_pandas()"
   ]
  },
  {
   "cell_type": "code",
   "execution_count": null,
   "id": "69e8e341",
   "metadata": {},
   "outputs": [],
   "source": [
    "spark.stop()"
   ]
  },
  {
   "cell_type": "code",
   "execution_count": null,
   "id": "ae9fdec2",
   "metadata": {},
   "outputs": [],
   "source": []
  }
 ],
 "metadata": {
  "kernelspec": {
   "display_name": "PySpark",
   "language": "python",
   "name": "pysparkkernel"
  },
  "language_info": {
   "codemirror_mode": {
    "name": "python",
    "version": 3
   },
   "file_extension": ".py",
   "mimetype": "text/x-python",
   "name": "pyspark",
   "pygments_lexer": "python3"
  }
 },
 "nbformat": 4,
 "nbformat_minor": 5
}
